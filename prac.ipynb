{
 "cells": [
  {
   "cell_type": "code",
   "execution_count": 95,
   "metadata": {},
   "outputs": [],
   "source": [
    "import numpy as np\n",
    "import matplotlib.pyplot as plt\n",
    "from matplotlib.image import imread\n",
    "from PIL import Image\n",
    "import os\n",
    "import io"
   ]
  },
  {
   "cell_type": "code",
   "execution_count": 96,
   "metadata": {},
   "outputs": [
    {
     "name": "stdout",
     "output_type": "stream",
     "text": [
      "[ True  True  True False False False] (3, 2)\n",
      "[55 19 16]\n"
     ]
    }
   ],
   "source": [
    "A = np.array([[55,19],[16,5],[2,5]])\n",
    "# print(A, A.shape, A.dtype)\n",
    "# for row in A:\n",
    "#     for num in row:\n",
    "#         print(num,end=\" \")\n",
    "X = A.flatten()\n",
    "print(X > 15, A.shape)\n",
    "print(X[X>15])"
   ]
  },
  {
   "cell_type": "code",
   "execution_count": null,
   "metadata": {},
   "outputs": [],
   "source": [
    "x = np.arange(-6,6,0.05)\n",
    "y1 = np.sin(x)\n",
    "y2 = np.cos(x)\n",
    "\n",
    "plt.plot(x,y1,label=\"sin\")\n",
    "plt.plot(x,y2,label=\"cos\",linestyle=\"--\")\n",
    "plt.xlabel= \"x\"\n",
    "plt.ylabel= \"y\"\n",
    "plt.title('sin & cos')\n",
    "plt.axhline(0,color=\"black\", linewidth=0.6 , linestyle=\"-.\")\n",
    "plt.axvline(0,color=\"black\", linewidth=0.6 , linestyle=\"-.\")\n",
    "plt.legend()\n",
    "plt.show\n"
   ]
  },
  {
   "cell_type": "code",
   "execution_count": null,
   "metadata": {},
   "outputs": [],
   "source": [
    "IMAGE_PATH = os.path.join(\"img\",'sample.png')\n",
    "img = imread(IMAGE_PATH)\n",
    "opened_img = Image.open(IMAGE_PATH)\n",
    "plt.imshow(img)\n",
    "plt.axis(\"off\")\n",
    "# plt.show()\n",
    "opened_img"
   ]
  },
  {
   "cell_type": "code",
   "execution_count": null,
   "metadata": {},
   "outputs": [],
   "source": [
    "# 이미지 열기\n",
    "image = Image.open(IMAGE_PATH)\n",
    "\n",
    "# BytesIO 객체 생성\n",
    "byte_io = io.BytesIO()\n",
    "\n",
    "# 이미지를 바이트로 저장 (포맷 지정 가능)\n",
    "image.save(byte_io, format='PNG')\n",
    "\n",
    "# 바이트 데이터 가져오기\n",
    "image_bytes = byte_io.getvalue()\n",
    "image_from_bytes = Image.open(io.BytesIO(image_bytes))\n",
    "image_from_bytes"
   ]
  },
  {
   "cell_type": "code",
   "execution_count": null,
   "metadata": {},
   "outputs": [],
   "source": [
    "def AND(x1,x2):\n",
    "    x=np.array([x1,x2])\n",
    "    w=np.array([0.5,0.5])\n",
    "    b=-0.7\n",
    "    tmp=np.sum(w*x) + b\n",
    "    return 0 if tmp <= 0 else 1\n",
    "\n",
    "def NAND(x1,x2):\n",
    "    x=np.array([x1,x2])\n",
    "    w=np.array([-0.5,-0.5])\n",
    "    b=0.7\n",
    "    tmp=np.sum(w*x) + b\n",
    "    return 0 if tmp <= 0 else 1\n",
    "\n",
    "def OR(x1,x2):\n",
    "    x=np.array([x1,x2])\n",
    "    w=np.array([0.5,0.5])\n",
    "    b=-0.2\n",
    "    tmp=np.sum(w*x) + b\n",
    "    return 0 if tmp <= 0 else 1\n",
    "\n",
    "def XOR(x1,x2):\n",
    "    s1=NAND(x1,x2)\n",
    "    s2=OR(x1,x2)\n",
    "    y=AND(s1,s2)\n",
    "    return y\n",
    "\n",
    "AND(0,0)\n",
    "OR(0,0)\n",
    "NAND(1,0)\n",
    "XOR(0,1)"
   ]
  }
 ],
 "metadata": {
  "kernelspec": {
   "display_name": "venv",
   "language": "python",
   "name": "python3"
  },
  "language_info": {
   "codemirror_mode": {
    "name": "ipython",
    "version": 3
   },
   "file_extension": ".py",
   "mimetype": "text/x-python",
   "name": "python",
   "nbconvert_exporter": "python",
   "pygments_lexer": "ipython3",
   "version": "3.11.3"
  }
 },
 "nbformat": 4,
 "nbformat_minor": 2
}
